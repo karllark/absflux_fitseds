{
 "cells": [
  {
   "cell_type": "code",
   "execution_count": null,
   "id": "42b3cd42",
   "metadata": {},
   "outputs": [],
   "source": [
    "import glob\n",
    "\n",
    "import numpy as np\n",
    "import scipy.optimize as op\n",
    "\n",
    "import matplotlib.pyplot as plt\n",
    "\n",
    "import astropy.units as u\n",
    "\n",
    "import emcee\n",
    "\n",
    "from measure_extinction.stardata import StarData\n",
    "from measure_extinction.extdata import ExtData\n",
    "from measure_extinction.modeldata import ModelData\n",
    "from measure_extinction.utils.fit_model import FitInfo\n",
    "\n",
    "from measure_extinction.utils.fit_model import get_best_fit_params, get_percentile_params\n",
    "\n",
    "from helpers import plot_data_model, get_fit_params, get_full_params"
   ]
  },
  {
   "cell_type": "markdown",
   "id": "8f70bc32",
   "metadata": {},
   "source": [
    "Specify the location of the model and observed data"
   ]
  },
  {
   "cell_type": "code",
   "execution_count": null,
   "id": "209117e4",
   "metadata": {},
   "outputs": [],
   "source": [
    "data_file_path = \"/home/kgordon/STScI/AbsFlux/CalSpec/absflux_fitseds/data/faintwds/\"\n",
    "model_file_path = \"/home/kgordon/Python/extstar_data/\""
   ]
  },
  {
   "cell_type": "markdown",
   "id": "57beb89f",
   "metadata": {},
   "source": [
    "Define star specific parameters"
   ]
  },
  {
   "cell_type": "code",
   "execution_count": null,
   "id": "4b7882b1",
   "metadata": {},
   "outputs": [],
   "source": [
    "starname = \"wdfs1022_30\"\n",
    "fstarname = f\"{starname}.dat\"\n",
    "velocity = 0.0   # assumption\n",
    "relband = \"WFC3_F625W\"\n",
    "\n",
    "# parameter names\n",
    "pnames = [\"logT\",\"logg\", \"logZ\", \"Av\",\"Rv\",\"C2\",\"C3\",\"C4\",\"x0\",\"gamma\",\"HI_gal\",\"HI_mw\"]\n",
    "pnames_fit = [\"logT\",\"logg\", \"Av\",\"Rv\",\"C2\",\"C3\",\"C4\",\"x0\",\"gamma\",\"HI_gal\"]\n",
    "\n",
    "# initial starting position\n",
    "params = [4.5, 7.5, 0.0, 0.5, 3.1, 0.7, 3.23, 0.41, 4.59, 0.95, 20.5, 17.0]"
   ]
  },
  {
   "cell_type": "markdown",
   "id": "d96814fe",
   "metadata": {},
   "source": [
    "Give the fitting parameters"
   ]
  },
  {
   "cell_type": "code",
   "execution_count": null,
   "id": "671da903",
   "metadata": {},
   "outputs": [],
   "source": [
    "# emcee\n",
    "nwalkers = 1000"
   ]
  },
  {
   "cell_type": "markdown",
   "id": "78b14321",
   "metadata": {},
   "source": [
    "Read in the star data"
   ]
  },
  {
   "cell_type": "code",
   "execution_count": null,
   "id": "9fee49ab",
   "metadata": {
    "scrolled": false
   },
   "outputs": [],
   "source": [
    "# get the observed reddened star data\n",
    "reddened_star = StarData(fstarname, path=f\"{data_file_path}\")\n",
    "band_names = reddened_star.data[\"BAND\"].get_band_names()\n",
    "data_names = reddened_star.data.keys()"
   ]
  },
  {
   "cell_type": "markdown",
   "id": "6a54935d",
   "metadata": {},
   "source": [
    "Plot the spectrum"
   ]
  },
  {
   "cell_type": "code",
   "execution_count": null,
   "id": "682f131f",
   "metadata": {},
   "outputs": [],
   "source": [
    "fig, ax = plt.subplots(figsize=(13, 10))\n",
    "reddened_star.plot(ax)\n",
    "ax.set_xscale(\"log\")\n",
    "ax.set_yscale(\"log\")"
   ]
  },
  {
   "cell_type": "markdown",
   "id": "5d47d4d3",
   "metadata": {},
   "source": [
    "Get the model data"
   ]
  },
  {
   "cell_type": "code",
   "execution_count": null,
   "id": "70cdc247",
   "metadata": {},
   "outputs": [],
   "source": [
    "tlusty_models_fullpath = glob.glob(f\"{model_file_path}/Models/wd_hubeny*.dat\")\n",
    "tlusty_models = [\n",
    "    tfile[tfile.rfind(\"/\") + 1 : len(tfile)] for tfile in tlusty_models_fullpath\n",
    "]\n",
    "\n",
    "# get the models with just the reddened star band data and spectra\n",
    "modinfo = ModelData(\n",
    "    tlusty_models,\n",
    "    path=f\"{model_file_path}/Models/\",\n",
    "    band_names=band_names,\n",
    "    spectra_names=data_names,\n",
    ")"
   ]
  },
  {
   "cell_type": "markdown",
   "id": "f975ea60",
   "metadata": {},
   "source": [
    "Setup the fit parameters"
   ]
  },
  {
   "cell_type": "code",
   "execution_count": null,
   "id": "b4f5976c",
   "metadata": {},
   "outputs": [],
   "source": [
    "# parameter names\n",
    "pnames = [\"logT\",\"logg\", \"logZ\", \"Av\",\"Rv\",\"C2\",\"C3\",\"C4\",\"x0\",\"gamma\",\"HI_gal\",\"HI_mw\"]\n",
    "pnames_fit = [\"logT\",\"logg\", \"Av\",\"Rv\",\"C2\",\"C3\",\"C4\",\"x0\",\"gamma\",\"HI_gal\"]\n",
    "\n",
    "# initial starting position\n",
    "params = [4.5, 7.5, 0.0, 0.5, 3.1, 0.7, 3.23, 0.41, 4.59, 0.95, 20.5, 17.0]\n",
    "\n",
    "# min/max allowed values for each parameter\n",
    "# some are based on the min/max of the stellar atmosphere grid\n",
    "\n",
    "# not all these parameters are being fit\n",
    "#   not fitting for met, log(HI) MW foreground\n",
    "plimits = [\n",
    "        [modinfo.temps_min, modinfo.temps_max],  # log(Teff)\n",
    "        [modinfo.gravs_min, modinfo.gravs_max],  # log(g)\n",
    "        [0.0, 0.0], # met\n",
    "        [0.0, 1.0],   # Av\n",
    "        [2.31, 5.59],   # Rv\n",
    "        [-0.1, 5.0],  # C2\n",
    "        [-1.0, 6.0],   # C3\n",
    "        [-0.5, 1.5],   # C4\n",
    "        [4.5, 4.9],   # xo\n",
    "        [0.6, 1.5],   # gamma\n",
    "        [18.0, 24.0], # log(HI) internal to galaxy\n",
    "        [17.0, 22.0], # log(HI) MW foreground\n",
    "    ]\n",
    "\n",
    "# add Gaussian priors based on prior knowledge\n",
    "#  sptype -> log(Teff), log(g)\n",
    "#  galaxy metallicity -> log(Z)\n",
    "ppriors = None\n",
    "# ppriors = {}\n",
    "#ppriors[\"logT\"] = (params[0], 0.1)\n",
    "#ppriors[\"logg\"] = (3.1, 0.1)"
   ]
  },
  {
   "cell_type": "code",
   "execution_count": null,
   "id": "d8d770a4",
   "metadata": {},
   "outputs": [],
   "source": [
    "# plot initial guess\n",
    "plot_data_model(reddened_star, modinfo, params)"
   ]
  },
  {
   "cell_type": "markdown",
   "id": "58555afa",
   "metadata": {},
   "source": [
    "Create the weight arrays based on the observed uncertainties"
   ]
  },
  {
   "cell_type": "code",
   "execution_count": null,
   "id": "add1c756",
   "metadata": {},
   "outputs": [],
   "source": [
    "# cropping info for weights\n",
    "#  bad regions are defined as those were we know the models do not work\n",
    "#  or the data is bad\n",
    "ex_regions = [\n",
    "    [8.23 - 0.1, 8.23 + 0.1],  # geocoronal line\n",
    "    [8.7, 10.0],  # bad data from STIS\n",
    "    [3.55, 3.6],\n",
    "    [3.80, 3.90],\n",
    "    [4.15, 4.3],\n",
    "    [6.4, 6.6],\n",
    "    [7.1, 7.3],\n",
    "    [7.45, 7.55],\n",
    "    [7.65, 7.75],\n",
    "    [7.9, 7.95],\n",
    "    [8.05, 8.1],\n",
    "] / u.micron\n",
    "\n",
    "weights = {}\n",
    "for cspec in data_names:\n",
    "    weights[cspec] = np.full(len(reddened_star.data[cspec].fluxes), 0.0)\n",
    "    gvals = reddened_star.data[cspec].npts > 0\n",
    "\n",
    "    weights[cspec][gvals] = 1.0 / reddened_star.data[cspec].uncs[gvals].value\n",
    "\n",
    "    x = 1.0 / reddened_star.data[cspec].waves\n",
    "    for cexreg in ex_regions:\n",
    "        weights[cspec][np.logical_and(x >= cexreg[0], x <= cexreg[1])] = 0.0\n",
    "\n",
    "# make the photometric bands have higher weight\n",
    "#weights[\"BAND\"] *= 10000.0"
   ]
  },
  {
   "cell_type": "markdown",
   "id": "6bae6f15",
   "metadata": {},
   "source": [
    "Package the fit info needed.  FitInfo class defines the likelihood functions as well."
   ]
  },
  {
   "cell_type": "code",
   "execution_count": null,
   "id": "f6aa29d7",
   "metadata": {},
   "outputs": [],
   "source": [
    "fitinfo = FitInfo(\n",
    "    pnames,\n",
    "    plimits,\n",
    "    weights,\n",
    "    parameter_priors=ppriors,\n",
    "    stellar_velocity=velocity,\n",
    ")"
   ]
  },
  {
   "cell_type": "code",
   "execution_count": null,
   "id": "5ff88bed",
   "metadata": {},
   "outputs": [],
   "source": [
    "# check that the initial starting position returns a valid value of lnprob and is within the parameter bounds\n",
    "fitinfo.check_param_limits(params)\n",
    "print(fitinfo.lnlike(params, reddened_star, modinfo))\n",
    "print(fitinfo.lnprior(params))\n",
    "print(fitinfo.lnprob(params, reddened_star, modinfo, fitinfo))"
   ]
  },
  {
   "cell_type": "markdown",
   "id": "cc3b9848",
   "metadata": {},
   "source": [
    "Useful function to plot data and model for specificed parameters"
   ]
  },
  {
   "cell_type": "code",
   "execution_count": null,
   "id": "7932407d",
   "metadata": {},
   "outputs": [],
   "source": [
    "# simple function to turn the log(likelihood) into the chisqr\n",
    "#  requied as op.minimize function searchs for the minimum chisqr (not max likelihood like MCMC algorithms)\n",
    "def nll(params, fixed_params, *args):\n",
    "    full_params = get_full_params(params, fixed_params)\n",
    "    return -fitinfo.lnprob(full_params, *args)\n",
    "\n",
    "init_fit_params = get_fit_params(params)\n",
    "\n",
    "# run the fit\n",
    "result = op.minimize(\n",
    "    nll, init_fit_params, method=\"Nelder-Mead\", options={\"maxiter\": 10000}, \n",
    "    args=(fixed_params, reddened_star, modinfo, fitinfo)\n",
    ")\n",
    "\n",
    "# check the fit output\n",
    "print(result[\"message\"])"
   ]
  },
  {
   "cell_type": "code",
   "execution_count": null,
   "id": "e510ce95",
   "metadata": {},
   "outputs": [],
   "source": [
    "# print results\n",
    "fit_params = get_full_params(result[\"x\"], fixed_params)\n",
    "params_best = fit_params\n",
    "pnames_extra = pnames\n",
    "\n",
    "# print the best fit\n",
    "for k, val in enumerate(params_best):\n",
    "    print(\"{} # {}\".format(val, pnames_extra[k]))\n"
   ]
  },
  {
   "cell_type": "markdown",
   "id": "72e47e0a",
   "metadata": {},
   "source": [
    "Plot the spectra with the best fit model"
   ]
  },
  {
   "cell_type": "code",
   "execution_count": null,
   "id": "16d1ca7e",
   "metadata": {},
   "outputs": [],
   "source": [
    "# plot optimizer/minimizer best fit\n",
    "plot_data_model(reddened_star, modinfo, fit_params)"
   ]
  },
  {
   "cell_type": "markdown",
   "id": "606f144a",
   "metadata": {},
   "source": [
    "Run emcee MCMC sampler to define uncertainties (bonus section)"
   ]
  },
  {
   "cell_type": "code",
   "execution_count": null,
   "id": "de6d727a",
   "metadata": {},
   "outputs": [],
   "source": [
    "p0 = get_fit_params(fit_params)\n",
    "ndim = len(p0)\n",
    "\n",
    "def lnprob_mcmc(params, *args):\n",
    "    full_params = get_full_params(params)\n",
    "    return fitinfo.lnprob(full_params, *args)\n",
    "\n",
    "nwalkers = 2 * ndim\n",
    "nsteps = 100000\n",
    "\n",
    "# setting up the walkers to start \"near\" the inital guess\n",
    "p = [p0 * (1 + 0.01 * np.random.normal(0, 1.0, ndim)) for k in range(nwalkers)]\n",
    "\n",
    "# setup the sampler\n",
    "sampler = emcee.EnsembleSampler(\n",
    "    nwalkers, ndim, lnprob_mcmc, args=(reddened_star, modinfo, fitinfo)\n",
    ")\n",
    "\n",
    "# do the full sampling\n",
    "pos, prob, state = sampler.run_mcmc(p, nsteps, progress=True)"
   ]
  },
  {
   "cell_type": "code",
   "execution_count": null,
   "id": "66c3e5a8",
   "metadata": {},
   "outputs": [],
   "source": [
    "# create the samples variable for later use\n",
    "flat_samples = sampler.get_chain(discard=10000, flat=True)\n",
    "print(flat_samples.shape)\n",
    "\n",
    "# get the best fit values\n",
    "# pnames_extra = pnames + [\"E(B-V)\", \"N(HI)/A(V)\", \"N(HI)/E(B-V)\"]\n",
    "params_best = get_best_fit_params(sampler)\n",
    "# fit_params = get_full_params(params_best)\n",
    "\n",
    "def get_percentile_params(samples):\n",
    "    \"\"\"\n",
    "    Determine the 50p plus/minus 33p vlaues\n",
    "    \"\"\"\n",
    "\n",
    "    per_params = map(\n",
    "        lambda v: (v[1], v[2] - v[1], v[1] - v[0]),\n",
    "        zip(*np.percentile(samples, [16, 50, 84], axis=0)),\n",
    "    )\n",
    "\n",
    "    return per_params\n",
    "\n",
    "# get the 16, 50, and 84 percentiles\n",
    "params_per = get_percentile_params(flat_samples)\n",
    "\n",
    "# save the best fit and p50 +/- uncs values to a file\n",
    "# save as a single row table to provide a uniform format\n",
    "#f = open(out_basename + \"_fit_params.dat\", \"w\")\n",
    "#f.write(\"# best fit, p50, +unc, -unc\\n\")\n",
    "print(\"best p50 -munc +unc # paramname\")\n",
    "for k, val in enumerate(params_per):\n",
    "    print(f\"{params_best[k]:.3f} {val[0]:.3f} {val[1]:.3f} {val[2]:.3f} # {pnames_fit[k]}\")"
   ]
  },
  {
   "cell_type": "code",
   "execution_count": null,
   "id": "ae17cbd0",
   "metadata": {},
   "outputs": [],
   "source": [
    "fit_params = get_full_params(params_best)\n",
    "plot_data_model(reddened_star, modinfo, fit_params)"
   ]
  },
  {
   "cell_type": "code",
   "execution_count": null,
   "id": "0aca7182",
   "metadata": {},
   "outputs": [],
   "source": [
    "nparam = len(params_best)\n",
    "fig, axes = plt.subplots(nparam, figsize=(10, 15), sharex=True)\n",
    "samples = sampler.get_chain()\n",
    "labels = pnames_fit\n",
    "for i in range(ndim):\n",
    "    ax = axes[i]\n",
    "    ax.plot(samples[:, :, i], \"k\", alpha=0.3)\n",
    "    ax.set_xlim(0, len(samples))\n",
    "    ax.set_ylabel(labels[i])\n",
    "    ax.yaxis.set_label_coords(-0.1, 0.5)\n",
    "\n",
    "axes[-1].set_xlabel(\"step number\");"
   ]
  },
  {
   "cell_type": "code",
   "execution_count": null,
   "id": "353fe47f",
   "metadata": {},
   "outputs": [],
   "source": [
    "import corner\n",
    "\n",
    "fig = corner.corner(flat_samples, labels=labels)"
   ]
  },
  {
   "cell_type": "code",
   "execution_count": null,
   "id": "42a0438f",
   "metadata": {},
   "outputs": [],
   "source": [
    "# usual gives an error\n",
    "tau = sampler.get_autocorr_time()\n",
    "print(tau)"
   ]
  },
  {
   "cell_type": "code",
   "execution_count": null,
   "id": "c863aa9d",
   "metadata": {},
   "outputs": [],
   "source": []
  }
 ],
 "metadata": {
  "kernelspec": {
   "display_name": "Python 3 (ipykernel)",
   "language": "python",
   "name": "python3"
  },
  "language_info": {
   "codemirror_mode": {
    "name": "ipython",
    "version": 3
   },
   "file_extension": ".py",
   "mimetype": "text/x-python",
   "name": "python",
   "nbconvert_exporter": "python",
   "pygments_lexer": "ipython3",
   "version": "3.9.7"
  }
 },
 "nbformat": 4,
 "nbformat_minor": 5
}
