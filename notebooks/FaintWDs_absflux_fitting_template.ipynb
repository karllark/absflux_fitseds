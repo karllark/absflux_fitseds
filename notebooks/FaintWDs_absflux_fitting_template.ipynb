{
 "cells": [
  {
   "cell_type": "code",
   "execution_count": 1,
   "id": "42b3cd42",
   "metadata": {},
   "outputs": [],
   "source": [
    "import glob\n",
    "\n",
    "import numpy as np\n",
    "import scipy.optimize as op\n",
    "\n",
    "import matplotlib.pyplot as plt\n",
    "\n",
    "import astropy.units as u\n",
    "\n",
    "import emcee\n",
    "\n",
    "from measure_extinction.stardata import StarData\n",
    "from measure_extinction.extdata import ExtData\n",
    "from measure_extinction.modeldata import ModelData\n",
    "from measure_extinction.utils.fit_model import FitInfo\n",
    "\n",
    "from measure_extinction.utils.fit_model import get_best_fit_params, get_percentile_params\n",
    "\n",
    "from helpers import plot_data_model, get_fit_params, get_full_params"
   ]
  },
  {
   "cell_type": "markdown",
   "id": "3caa695b",
   "metadata": {},
   "source": [
    "## Info about the specific star and data to fit"
   ]
  },
  {
   "cell_type": "markdown",
   "id": "8f70bc32",
   "metadata": {},
   "source": [
    "Specify the location of the model and observed data"
   ]
  },
  {
   "cell_type": "code",
   "execution_count": 2,
   "id": "209117e4",
   "metadata": {},
   "outputs": [],
   "source": [
    "data_file_path = \"/home/kgordon/STScI/AbsFlux/CalSpec/absflux_fitseds/data/faintwds/\"\n",
    "model_file_path = \"/home/kgordon/Python/extstar_data/\""
   ]
  },
  {
   "cell_type": "markdown",
   "id": "57beb89f",
   "metadata": {},
   "source": [
    "Define star specific parameters"
   ]
  },
  {
   "cell_type": "code",
   "execution_count": 65,
   "id": "4b7882b1",
   "metadata": {},
   "outputs": [
    {
     "name": "stdout",
     "output_type": "stream",
     "text": [
      "4.52200058318427 0.013059140539433578\n"
     ]
    }
   ],
   "source": [
    "starname = \"wdfs1022_30\"\n",
    "fstarname = f\"{starname}.dat\"\n",
    "velocity = 0.0   # assumption\n",
    "relband = \"WFC3_F625W\"  # needed for dust extinction\n",
    "\n",
    "# Teff, logg, from Narayan et al. 2019\n",
    "teff = 33266.0\n",
    "teff_unc = 1000.0\n",
    "logt = np.log10(teff)\n",
    "logt_unc = 0.5 * (np.log10(teff + teff_unc) - np.log10(teff - teff_unc))\n",
    "print(logt, logt_unc)\n",
    "logg = 7.5\n",
    "logg_unc = 0.1\n",
    "\n",
    "# parameter names\n",
    "pnames = [\"logT\",\"logg\", \"logZ\", \"Av\",\"Rv\",\"C2\",\"C3\",\"C4\",\"x0\",\"gamma\",\"HI_gal\",\"HI_mw\"]\n",
    "# logZ and HI_mw not fit as sources in MW so HI_gal = HI_MW\n",
    "pnames_fit = [\"logT\",\"logg\", \"Av\",\"Rv\",\"C2\",\"C3\",\"C4\",\"x0\",\"gamma\",\"logHI\"]\n",
    "\n",
    "# initial starting position\n",
    "params = [4.5, 7.5, 0.0, 0.5, 3.1, 0.7, 3.23, 0.41, 4.59, 0.95, 20.5, 17.0]\n",
    "\n",
    "# add Gaussian priors based on prior knowledge\n",
    "ppriors = {}\n",
    "ppriors[\"logT\"] = (logt, logt_unc)\n",
    "ppriors[\"logg\"] = (logg, logg_unc)\n",
    "# based on VCG04 and FM07 MW samples\n",
    "ppriors[\"Rv\"] = (3.0, 0.4)\n",
    "ppriors[\"C2\"] = (0.73, 0.25)\n",
    "ppriors[\"C3\"] = (0.285, 0.7)\n",
    "ppriors[\"C4\"] = (0.4, 0.2)\n",
    "ppriors[\"x0\"] = (4.59, 0.02)\n",
    "ppriors[\"gamma\"] = (0.89, 0.08)"
   ]
  },
  {
   "cell_type": "markdown",
   "id": "d96814fe",
   "metadata": {},
   "source": [
    "Give the fitting parameters"
   ]
  },
  {
   "cell_type": "code",
   "execution_count": 4,
   "id": "671da903",
   "metadata": {},
   "outputs": [],
   "source": [
    "# emcee\n",
    "nsteps = 10000"
   ]
  },
  {
   "cell_type": "markdown",
   "id": "78b14321",
   "metadata": {},
   "source": [
    "Read in the star data"
   ]
  },
  {
   "cell_type": "code",
   "execution_count": 5,
   "id": "9fee49ab",
   "metadata": {
    "scrolled": false
   },
   "outputs": [],
   "source": [
    "# get the observed reddened star data\n",
    "reddened_star = StarData(fstarname, path=f\"{data_file_path}\")\n",
    "band_names = reddened_star.data[\"BAND\"].get_band_names()\n",
    "data_names = reddened_star.data.keys()"
   ]
  },
  {
   "cell_type": "markdown",
   "id": "fdcbc50f",
   "metadata": {},
   "source": [
    "Create the weight arrays based on the observed uncertainties and exclude regions that have known lines not fit by the models (ISM gas, etc.)."
   ]
  },
  {
   "cell_type": "code",
   "execution_count": 62,
   "id": "2c83f31c",
   "metadata": {},
   "outputs": [
    {
     "name": "stdout",
     "output_type": "stream",
     "text": [
      "[2.79846830e+16 5.79651359e+16 1.81536801e+17 4.76615849e+17\n",
      " 1.03470897e+18 6.43715238e+18]\n",
      "[2.71909738e+13 3.83129731e+13 3.92338131e+13 ... 1.14798422e+15\n",
      " 1.08175276e+15 1.11475408e+15]\n"
     ]
    }
   ],
   "source": [
    "# cropping info for weights\n",
    "#  bad regions are defined as those were we know the models do not work\n",
    "#  or the data is bad\n",
    "ex_regions = [\n",
    "    [8.23 - 0.1, 8.23 + 0.1],  # geocoronal line\n",
    "    [8.7, 10.0],  # bad data from STIS\n",
    "    [3.55, 3.6],\n",
    "    [3.80, 3.90],\n",
    "    [4.15, 4.3],\n",
    "    [6.4, 6.6],\n",
    "    [7.1, 7.3],\n",
    "    [7.45, 7.55],\n",
    "    [7.65, 7.75],\n",
    "    [7.9, 7.95],\n",
    "    [8.05, 8.1],\n",
    "] / u.micron\n",
    "\n",
    "weights = {}\n",
    "for cspec in data_names:\n",
    "    weights[cspec] = np.full(len(reddened_star.data[cspec].fluxes), 0.0)\n",
    "    gvals = reddened_star.data[cspec].npts > 0\n",
    "\n",
    "    weights[cspec][gvals] = 1.0e-1 / reddened_star.data[cspec].uncs[gvals].value\n",
    "\n",
    "    x = 1.0 / reddened_star.data[cspec].waves\n",
    "    for cexreg in ex_regions:\n",
    "        weights[cspec][np.logical_and(x >= cexreg[0], x <= cexreg[1])] = 0.0"
   ]
  },
  {
   "cell_type": "markdown",
   "id": "5d47d4d3",
   "metadata": {},
   "source": [
    "Get the model data"
   ]
  },
  {
   "cell_type": "code",
   "execution_count": 7,
   "id": "70cdc247",
   "metadata": {},
   "outputs": [],
   "source": [
    "tlusty_models_fullpath = glob.glob(f\"{model_file_path}/Models/wd_hubeny*.dat\")\n",
    "tlusty_models = [\n",
    "    tfile[tfile.rfind(\"/\") + 1 : len(tfile)] for tfile in tlusty_models_fullpath\n",
    "]\n",
    "\n",
    "# get the models with just the reddened star band data and spectra\n",
    "modinfo = ModelData(\n",
    "    tlusty_models,\n",
    "    path=f\"{model_file_path}/Models/\",\n",
    "    band_names=band_names,\n",
    "    spectra_names=data_names,\n",
    ")"
   ]
  },
  {
   "cell_type": "markdown",
   "id": "f975ea60",
   "metadata": {},
   "source": [
    "Setup the fit parameters"
   ]
  },
  {
   "cell_type": "code",
   "execution_count": 8,
   "id": "d8d770a4",
   "metadata": {},
   "outputs": [],
   "source": [
    "# not all these parameters are being fit\n",
    "#   not fitting for met, log(HI) MW foreground\n",
    "plimits = [\n",
    "        [modinfo.temps_min, modinfo.temps_max],  # log(Teff)\n",
    "        [modinfo.gravs_min, modinfo.gravs_max],  # log(g)\n",
    "        [0.0, 0.0], # met\n",
    "        [0.0, 1.0],   # Av\n",
    "        [2.31, 5.59],   # Rv\n",
    "        [-0.1, 5.0],  # C2\n",
    "        [-1.0, 6.0],   # C3\n",
    "        [-0.5, 1.5],   # C4\n",
    "        [4.5, 4.9],   # xo\n",
    "        [0.6, 1.5],   # gamma\n",
    "        [18.0, 24.0], # log(HI) internal to galaxy\n",
    "        [17.0, 22.0], # log(HI) MW foreground\n",
    "    ]"
   ]
  },
  {
   "cell_type": "markdown",
   "id": "6bae6f15",
   "metadata": {},
   "source": [
    "Package the fit info needed.  FitInfo class defines the likelihood functions as well."
   ]
  },
  {
   "cell_type": "code",
   "execution_count": 66,
   "id": "f6aa29d7",
   "metadata": {},
   "outputs": [],
   "source": [
    "fitinfo = FitInfo(\n",
    "    pnames,\n",
    "    plimits,\n",
    "    weights,\n",
    "    parameter_priors=ppriors,\n",
    "    stellar_velocity=velocity,\n",
    ")"
   ]
  },
  {
   "cell_type": "code",
   "execution_count": 67,
   "id": "5ff88bed",
   "metadata": {},
   "outputs": [
    {
     "name": "stdout",
     "output_type": "stream",
     "text": [
      "-1225.1436610393152\n",
      "-10.590063090607734\n",
      "-1235.733724129923\n"
     ]
    }
   ],
   "source": [
    "# check that the initial starting position returns a valid value of lnprob and is within the parameter bounds\n",
    "fitinfo.check_param_limits(params)\n",
    "print(fitinfo.lnlike(params, reddened_star, modinfo))\n",
    "print(fitinfo.lnprior(params))\n",
    "print(fitinfo.lnprob(params, reddened_star, modinfo, fitinfo))"
   ]
  },
  {
   "cell_type": "markdown",
   "id": "cc3b9848",
   "metadata": {},
   "source": [
    "## Do the fitting to find the best fit (using a minimizer)"
   ]
  },
  {
   "cell_type": "code",
   "execution_count": 68,
   "id": "7932407d",
   "metadata": {},
   "outputs": [
    {
     "name": "stdout",
     "output_type": "stream",
     "text": [
      "Optimization terminated successfully.\n"
     ]
    }
   ],
   "source": [
    "# simple function to turn the log(likelihood) into the chisqr\n",
    "#  requied as op.minimize function searchs for the minimum chisqr (not max likelihood like MCMC algorithms)\n",
    "def nll(params, *args):\n",
    "    full_params = get_full_params(params)\n",
    "    return -fitinfo.lnprob(full_params, *args)\n",
    "\n",
    "init_fit_params = get_fit_params(params)\n",
    "\n",
    "# run the fit\n",
    "result = op.minimize(\n",
    "    nll, init_fit_params, method=\"Nelder-Mead\", options={\"maxiter\": 10000}, \n",
    "    args=(reddened_star, modinfo, fitinfo)\n",
    ")\n",
    "\n",
    "# check the fit output\n",
    "print(result[\"message\"])"
   ]
  },
  {
   "cell_type": "code",
   "execution_count": 69,
   "id": "e510ce95",
   "metadata": {},
   "outputs": [
    {
     "name": "stdout",
     "output_type": "stream",
     "text": [
      "4.526585508373053 # logT\n",
      "7.5558693412991715 # logg\n",
      "0.0 # logZ\n",
      "0.03569704960018101 # Av\n",
      "3.2399748345864996 # Rv\n",
      "1.1536272977705275 # C2\n",
      "3.6115468974562326 # C3\n",
      "0.4711246258848314 # C4\n",
      "4.590820703318958 # x0\n",
      "0.9595514563249687 # gamma\n",
      "20.893901386962682 # HI_gal\n",
      "17.0 # HI_mw\n"
     ]
    }
   ],
   "source": [
    "# print results\n",
    "fit_params = get_full_params(result[\"x\"])\n",
    "params_best = fit_params\n",
    "fit_params_fit = get_fit_params(fit_params)\n",
    "\n",
    "# print the best fit\n",
    "for k, val in enumerate(params_best):\n",
    "    print(f\"{val} # {pnames[k]}\")"
   ]
  },
  {
   "cell_type": "markdown",
   "id": "72e47e0a",
   "metadata": {},
   "source": [
    "Plot the spectra with the best fit model"
   ]
  },
  {
   "cell_type": "code",
   "execution_count": 70,
   "id": "16d1ca7e",
   "metadata": {},
   "outputs": [
    {
     "data": {
      "image/png": "[encoded data removed]",
      "text/plain": [
       "<Figure size 936x720 with 2 Axes>"
      ]
     },
     "metadata": {
      "needs_background": "light"
     },
     "output_type": "display_data"
    }
   ],
   "source": [
    "# plot optimizer/minimizer best fit\n",
    "\n",
    "plot_data_model(reddened_star, weights, modinfo, fit_params_fit, pnames_fit, starname, velocity)"
   ]
  },
  {
   "cell_type": "markdown",
   "id": "606f144a",
   "metadata": {},
   "source": [
    "## Run emcee MCMC sampler to define uncertainties (bonus section)"
   ]
  },
  {
   "cell_type": "code",
   "execution_count": 76,
   "id": "de6d727a",
   "metadata": {},
   "outputs": [
    {
     "name": "stderr",
     "output_type": "stream",
     "text": [
      " 60%|████████████████████████████████████▏                       | 6038/10000 [32:33<21:58,  3.00it/s]Traceback (most recent call last):\n",
      "  File \"/home/kgordon/Bin/miniconda3/lib/python3.9/site-packages/emcee/ensemble.py\", line 624, in __call__\n",
      "    return self.f(x, *self.args, **self.kwargs)\n",
      "  File \"/tmp/ipykernel_19207/2572371296.py\", line 6, in lnprob_mcmc\n",
      "    return fitinfo.lnprob(full_params, *args)\n",
      "  File \"/home/kgordon/Python/measure_extinction/measure_extinction/utils/fit_model.py\", line 179, in lnprob\n",
      "    return lnp + fitinfo.lnlike(params, obsdata, modeldata, fit_range=fit_range)\n",
      "  File \"/home/kgordon/Python/measure_extinction/measure_extinction/utils/fit_model.py\", line 89, in lnlike\n",
      "    ext_modsed = modeldata.dust_extinguished_sed(\n",
      "  File \"/home/kgordon/Python/measure_extinction/measure_extinction/modeldata.py\", line 257, in dust_extinguished_sed\n",
      "    axav = _curve_F99_method(\n",
      "  File \"/home/kgordon/Bin/miniconda3/lib/python3.9/site-packages/dust_extinction/shapes.py\", line 101, in _curve_F99_method\n",
      "    fm90_model = FM90(C1=C1, C2=C2, C3=C3, C4=C4, xo=xo, gamma=gamma)\n",
      "  File \"/home/kgordon/Bin/miniconda3/lib/python3.9/site-packages/astropy/modeling/core.py\", line 457, in __init__\n",
      "    new_init = make_function_with_signature(\n",
      "  File \"/home/kgordon/Bin/miniconda3/lib/python3.9/site-packages/astropy/modeling/core.py\", line 455, in __init__\n",
      "    return super(cls, self).__init__(*params, **kwargs)\n",
      "  File \"/home/kgordon/Bin/miniconda3/lib/python3.9/site-packages/astropy/modeling/core.py\", line 734, in __init__\n",
      "    newpar = copy.deepcopy(val)\n",
      "  File \"/home/kgordon/Bin/miniconda3/lib/python3.9/copy.py\", line 172, in deepcopy\n",
      "    y = _reconstruct(x, memo, *rv)\n",
      "  File \"/home/kgordon/Bin/miniconda3/lib/python3.9/copy.py\", line 270, in _reconstruct\n",
      "    state = deepcopy(state, memo)\n",
      "  File \"/home/kgordon/Bin/miniconda3/lib/python3.9/copy.py\", line 146, in deepcopy\n",
      "    y = copier(x, memo)\n",
      "  File \"/home/kgordon/Bin/miniconda3/lib/python3.9/copy.py\", line 230, in _deepcopy_dict\n",
      "    y[deepcopy(key, memo)] = deepcopy(value, memo)\n",
      "  File \"/home/kgordon/Bin/miniconda3/lib/python3.9/copy.py\", line 146, in deepcopy\n",
      "    y = copier(x, memo)\n",
      "  File \"/home/kgordon/Bin/miniconda3/lib/python3.9/copy.py\", line 217, in _deepcopy_tuple\n",
      "    for k, j in zip(x, y):\n",
      "KeyboardInterrupt\n",
      " 60%|████████████████████████████████████▏                       | 6038/10000 [32:33<21:21,  3.09it/s]\n"
     ]
    },
    {
     "name": "stdout",
     "output_type": "stream",
     "text": [
      "emcee: Exception while calling your likelihood function:\n",
      "  params: [ 4.52728005  7.54628425  0.05654276  3.00818164  0.71843439 -0.18476247\n",
      "  0.46683803  4.60692148  0.79947688 20.55394626]\n",
      "  args: (<measure_extinction.stardata.StarData object at 0x7fabb4980400>, <measure_extinction.modeldata.ModelData object at 0x7fabccaf7190>, <measure_extinction.utils.fit_model.FitInfo object at 0x7faba1d4b460>)\n",
      "  kwargs: {}\n",
      "  exception:\n"
     ]
    },
    {
     "ename": "KeyboardInterrupt",
     "evalue": "",
     "output_type": "error",
     "traceback": [
      "\u001b[0;31m---------------------------------------------------------------------------\u001b[0m",
      "\u001b[0;31mKeyboardInterrupt\u001b[0m                         Traceback (most recent call last)",
      "Input \u001b[0;32mIn [76]\u001b[0m, in \u001b[0;36m<cell line: 19>\u001b[0;34m()\u001b[0m\n\u001b[1;32m     14\u001b[0m sampler \u001b[38;5;241m=\u001b[39m emcee\u001b[38;5;241m.\u001b[39mEnsembleSampler(\n\u001b[1;32m     15\u001b[0m     nwalkers, ndim, lnprob_mcmc, args\u001b[38;5;241m=\u001b[39m(reddened_star, modinfo, fitinfo)\n\u001b[1;32m     16\u001b[0m )\n\u001b[1;32m     18\u001b[0m \u001b[38;5;66;03m# do the full sampling\u001b[39;00m\n\u001b[0;32m---> 19\u001b[0m pos, prob, state \u001b[38;5;241m=\u001b[39m \u001b[43msampler\u001b[49m\u001b[38;5;241;43m.\u001b[39;49m\u001b[43mrun_mcmc\u001b[49m\u001b[43m(\u001b[49m\u001b[43mp\u001b[49m\u001b[43m,\u001b[49m\u001b[43m \u001b[49m\u001b[43mnsteps\u001b[49m\u001b[43m,\u001b[49m\u001b[43m \u001b[49m\u001b[43mprogress\u001b[49m\u001b[38;5;241;43m=\u001b[39;49m\u001b[38;5;28;43;01mTrue\u001b[39;49;00m\u001b[43m)\u001b[49m\n",
      "File \u001b[0;32m~/Bin/miniconda3/lib/python3.9/site-packages/emcee/ensemble.py:443\u001b[0m, in \u001b[0;36mEnsembleSampler.run_mcmc\u001b[0;34m(self, initial_state, nsteps, **kwargs)\u001b[0m\n\u001b[1;32m    440\u001b[0m     initial_state \u001b[38;5;241m=\u001b[39m \u001b[38;5;28mself\u001b[39m\u001b[38;5;241m.\u001b[39m_previous_state\n\u001b[1;32m    442\u001b[0m results \u001b[38;5;241m=\u001b[39m \u001b[38;5;28;01mNone\u001b[39;00m\n\u001b[0;32m--> 443\u001b[0m \u001b[38;5;28;01mfor\u001b[39;00m results \u001b[38;5;129;01min\u001b[39;00m \u001b[38;5;28mself\u001b[39m\u001b[38;5;241m.\u001b[39msample(initial_state, iterations\u001b[38;5;241m=\u001b[39mnsteps, \u001b[38;5;241m*\u001b[39m\u001b[38;5;241m*\u001b[39mkwargs):\n\u001b[1;32m    444\u001b[0m     \u001b[38;5;28;01mpass\u001b[39;00m\n\u001b[1;32m    446\u001b[0m \u001b[38;5;66;03m# Store so that the ``initial_state=None`` case will work\u001b[39;00m\n",
      "File \u001b[0;32m~/Bin/miniconda3/lib/python3.9/site-packages/emcee/ensemble.py:402\u001b[0m, in \u001b[0;36mEnsembleSampler.sample\u001b[0;34m(self, initial_state, log_prob0, rstate0, blobs0, iterations, tune, skip_initial_state_check, thin_by, thin, store, progress, progress_kwargs)\u001b[0m\n\u001b[1;32m    399\u001b[0m move \u001b[38;5;241m=\u001b[39m \u001b[38;5;28mself\u001b[39m\u001b[38;5;241m.\u001b[39m_random\u001b[38;5;241m.\u001b[39mchoice(\u001b[38;5;28mself\u001b[39m\u001b[38;5;241m.\u001b[39m_moves, p\u001b[38;5;241m=\u001b[39m\u001b[38;5;28mself\u001b[39m\u001b[38;5;241m.\u001b[39m_weights)\n\u001b[1;32m    401\u001b[0m \u001b[38;5;66;03m# Propose\u001b[39;00m\n\u001b[0;32m--> 402\u001b[0m state, accepted \u001b[38;5;241m=\u001b[39m \u001b[43mmove\u001b[49m\u001b[38;5;241;43m.\u001b[39;49m\u001b[43mpropose\u001b[49m\u001b[43m(\u001b[49m\u001b[43mmodel\u001b[49m\u001b[43m,\u001b[49m\u001b[43m \u001b[49m\u001b[43mstate\u001b[49m\u001b[43m)\u001b[49m\n\u001b[1;32m    403\u001b[0m state\u001b[38;5;241m.\u001b[39mrandom_state \u001b[38;5;241m=\u001b[39m \u001b[38;5;28mself\u001b[39m\u001b[38;5;241m.\u001b[39mrandom_state\n\u001b[1;32m    405\u001b[0m \u001b[38;5;28;01mif\u001b[39;00m tune:\n",
      "File \u001b[0;32m~/Bin/miniconda3/lib/python3.9/site-packages/emcee/moves/red_blue.py:93\u001b[0m, in \u001b[0;36mRedBlueMove.propose\u001b[0;34m(self, model, state)\u001b[0m\n\u001b[1;32m     90\u001b[0m q, factors \u001b[38;5;241m=\u001b[39m \u001b[38;5;28mself\u001b[39m\u001b[38;5;241m.\u001b[39mget_proposal(s, c, model\u001b[38;5;241m.\u001b[39mrandom)\n\u001b[1;32m     92\u001b[0m \u001b[38;5;66;03m# Compute the lnprobs of the proposed position.\u001b[39;00m\n\u001b[0;32m---> 93\u001b[0m new_log_probs, new_blobs \u001b[38;5;241m=\u001b[39m \u001b[43mmodel\u001b[49m\u001b[38;5;241;43m.\u001b[39;49m\u001b[43mcompute_log_prob_fn\u001b[49m\u001b[43m(\u001b[49m\u001b[43mq\u001b[49m\u001b[43m)\u001b[49m\n\u001b[1;32m     95\u001b[0m \u001b[38;5;66;03m# Loop over the walkers and update them accordingly.\u001b[39;00m\n\u001b[1;32m     96\u001b[0m \u001b[38;5;28;01mfor\u001b[39;00m i, (j, f, nlp) \u001b[38;5;129;01min\u001b[39;00m \u001b[38;5;28menumerate\u001b[39m(\n\u001b[1;32m     97\u001b[0m     \u001b[38;5;28mzip\u001b[39m(all_inds[S1], factors, new_log_probs)\n\u001b[1;32m     98\u001b[0m ):\n",
      "File \u001b[0;32m~/Bin/miniconda3/lib/python3.9/site-packages/emcee/ensemble.py:489\u001b[0m, in \u001b[0;36mEnsembleSampler.compute_log_prob\u001b[0;34m(self, coords)\u001b[0m\n\u001b[1;32m    487\u001b[0m     \u001b[38;5;28;01melse\u001b[39;00m:\n\u001b[1;32m    488\u001b[0m         map_func \u001b[38;5;241m=\u001b[39m \u001b[38;5;28mmap\u001b[39m\n\u001b[0;32m--> 489\u001b[0m     results \u001b[38;5;241m=\u001b[39m \u001b[38;5;28;43mlist\u001b[39;49m\u001b[43m(\u001b[49m\u001b[43mmap_func\u001b[49m\u001b[43m(\u001b[49m\u001b[38;5;28;43mself\u001b[39;49m\u001b[38;5;241;43m.\u001b[39;49m\u001b[43mlog_prob_fn\u001b[49m\u001b[43m,\u001b[49m\u001b[43m \u001b[49m\u001b[43mp\u001b[49m\u001b[43m)\u001b[49m\u001b[43m)\u001b[49m\n\u001b[1;32m    491\u001b[0m \u001b[38;5;28;01mtry\u001b[39;00m:\n\u001b[1;32m    492\u001b[0m     log_prob \u001b[38;5;241m=\u001b[39m np\u001b[38;5;241m.\u001b[39marray([\u001b[38;5;28mfloat\u001b[39m(l[\u001b[38;5;241m0\u001b[39m]) \u001b[38;5;28;01mfor\u001b[39;00m l \u001b[38;5;129;01min\u001b[39;00m results])\n",
      "File \u001b[0;32m~/Bin/miniconda3/lib/python3.9/site-packages/emcee/ensemble.py:624\u001b[0m, in \u001b[0;36m_FunctionWrapper.__call__\u001b[0;34m(self, x)\u001b[0m\n\u001b[1;32m    622\u001b[0m \u001b[38;5;28;01mdef\u001b[39;00m \u001b[38;5;21m__call__\u001b[39m(\u001b[38;5;28mself\u001b[39m, x):\n\u001b[1;32m    623\u001b[0m     \u001b[38;5;28;01mtry\u001b[39;00m:\n\u001b[0;32m--> 624\u001b[0m         \u001b[38;5;28;01mreturn\u001b[39;00m \u001b[38;5;28;43mself\u001b[39;49m\u001b[38;5;241;43m.\u001b[39;49m\u001b[43mf\u001b[49m\u001b[43m(\u001b[49m\u001b[43mx\u001b[49m\u001b[43m,\u001b[49m\u001b[43m \u001b[49m\u001b[38;5;241;43m*\u001b[39;49m\u001b[38;5;28;43mself\u001b[39;49m\u001b[38;5;241;43m.\u001b[39;49m\u001b[43margs\u001b[49m\u001b[43m,\u001b[49m\u001b[43m \u001b[49m\u001b[38;5;241;43m*\u001b[39;49m\u001b[38;5;241;43m*\u001b[39;49m\u001b[38;5;28;43mself\u001b[39;49m\u001b[38;5;241;43m.\u001b[39;49m\u001b[43mkwargs\u001b[49m\u001b[43m)\u001b[49m\n\u001b[1;32m    625\u001b[0m     \u001b[38;5;28;01mexcept\u001b[39;00m:  \u001b[38;5;66;03m# pragma: no cover\u001b[39;00m\n\u001b[1;32m    626\u001b[0m         \u001b[38;5;28;01mimport\u001b[39;00m \u001b[38;5;21;01mtraceback\u001b[39;00m\n",
      "Input \u001b[0;32mIn [76]\u001b[0m, in \u001b[0;36mlnprob_mcmc\u001b[0;34m(params, *args)\u001b[0m\n\u001b[1;32m      4\u001b[0m \u001b[38;5;28;01mdef\u001b[39;00m \u001b[38;5;21mlnprob_mcmc\u001b[39m(params, \u001b[38;5;241m*\u001b[39margs):\n\u001b[1;32m      5\u001b[0m     full_params \u001b[38;5;241m=\u001b[39m get_full_params(params)\n\u001b[0;32m----> 6\u001b[0m     \u001b[38;5;28;01mreturn\u001b[39;00m \u001b[43mfitinfo\u001b[49m\u001b[38;5;241;43m.\u001b[39;49m\u001b[43mlnprob\u001b[49m\u001b[43m(\u001b[49m\u001b[43mfull_params\u001b[49m\u001b[43m,\u001b[49m\u001b[43m \u001b[49m\u001b[38;5;241;43m*\u001b[39;49m\u001b[43margs\u001b[49m\u001b[43m)\u001b[49m\n",
      "File \u001b[0;32m~/Python/measure_extinction/measure_extinction/utils/fit_model.py:179\u001b[0m, in \u001b[0;36mFitInfo.lnprob\u001b[0;34m(params, obsdata, modeldata, fitinfo, fit_range)\u001b[0m\n\u001b[1;32m    177\u001b[0m     \u001b[38;5;28;01mreturn\u001b[39;00m lnp\n\u001b[1;32m    178\u001b[0m \u001b[38;5;28;01melse\u001b[39;00m:\n\u001b[0;32m--> 179\u001b[0m     \u001b[38;5;28;01mreturn\u001b[39;00m lnp \u001b[38;5;241m+\u001b[39m \u001b[43mfitinfo\u001b[49m\u001b[38;5;241;43m.\u001b[39;49m\u001b[43mlnlike\u001b[49m\u001b[43m(\u001b[49m\u001b[43mparams\u001b[49m\u001b[43m,\u001b[49m\u001b[43m \u001b[49m\u001b[43mobsdata\u001b[49m\u001b[43m,\u001b[49m\u001b[43m \u001b[49m\u001b[43mmodeldata\u001b[49m\u001b[43m,\u001b[49m\u001b[43m \u001b[49m\u001b[43mfit_range\u001b[49m\u001b[38;5;241;43m=\u001b[39;49m\u001b[43mfit_range\u001b[49m\u001b[43m)\u001b[49m\n",
      "File \u001b[0;32m~/Python/measure_extinction/measure_extinction/utils/fit_model.py:89\u001b[0m, in \u001b[0;36mFitInfo.lnlike\u001b[0;34m(self, params, obsdata, modeldata, fit_range)\u001b[0m\n\u001b[1;32m     86\u001b[0m modsed \u001b[38;5;241m=\u001b[39m modeldata\u001b[38;5;241m.\u001b[39mstellar_sed(params[\u001b[38;5;241m0\u001b[39m:\u001b[38;5;241m3\u001b[39m], velocity\u001b[38;5;241m=\u001b[39m\u001b[38;5;28mself\u001b[39m\u001b[38;5;241m.\u001b[39mvelocities[\u001b[38;5;241m0\u001b[39m])\n\u001b[1;32m     88\u001b[0m \u001b[38;5;66;03m# dust_extinguished sed\u001b[39;00m\n\u001b[0;32m---> 89\u001b[0m ext_modsed \u001b[38;5;241m=\u001b[39m \u001b[43mmodeldata\u001b[49m\u001b[38;5;241;43m.\u001b[39;49m\u001b[43mdust_extinguished_sed\u001b[49m\u001b[43m(\u001b[49m\n\u001b[1;32m     90\u001b[0m \u001b[43m    \u001b[49m\u001b[43mparams\u001b[49m\u001b[43m[\u001b[49m\u001b[38;5;241;43m3\u001b[39;49m\u001b[43m:\u001b[49m\u001b[38;5;241;43m10\u001b[39;49m\u001b[43m]\u001b[49m\u001b[43m,\u001b[49m\u001b[43m \u001b[49m\u001b[43mmodsed\u001b[49m\u001b[43m,\u001b[49m\u001b[43m \u001b[49m\u001b[43mfit_range\u001b[49m\u001b[38;5;241;43m=\u001b[39;49m\u001b[43mfit_range\u001b[49m\u001b[43m,\u001b[49m\u001b[43m \u001b[49m\u001b[43mvelocity\u001b[49m\u001b[38;5;241;43m=\u001b[39;49m\u001b[38;5;28;43mself\u001b[39;49m\u001b[38;5;241;43m.\u001b[39;49m\u001b[43mvelocities\u001b[49m\u001b[43m[\u001b[49m\u001b[38;5;241;43m0\u001b[39;49m\u001b[43m]\u001b[49m\n\u001b[1;32m     91\u001b[0m \u001b[43m\u001b[49m\u001b[43m)\u001b[49m\n\u001b[1;32m     93\u001b[0m \u001b[38;5;66;03m# hi_abs sed\u001b[39;00m\n\u001b[1;32m     94\u001b[0m hi_ext_modsed \u001b[38;5;241m=\u001b[39m modeldata\u001b[38;5;241m.\u001b[39mhi_abs_sed(params[\u001b[38;5;241m10\u001b[39m:\u001b[38;5;241m12\u001b[39m], \u001b[38;5;28mself\u001b[39m\u001b[38;5;241m.\u001b[39mvelocities, ext_modsed)\n",
      "File \u001b[0;32m~/Python/measure_extinction/measure_extinction/modeldata.py:257\u001b[0m, in \u001b[0;36mModelData.dust_extinguished_sed\u001b[0;34m(self, params, sed, fit_range, velocity)\u001b[0m\n\u001b[1;32m    253\u001b[0m     \u001b[38;5;28;01mfor\u001b[39;00m cspec \u001b[38;5;129;01min\u001b[39;00m \u001b[38;5;28mself\u001b[39m\u001b[38;5;241m.\u001b[39mfluxes\u001b[38;5;241m.\u001b[39mkeys():\n\u001b[1;32m    254\u001b[0m         \u001b[38;5;66;03m# get the dust extinguished SED (account for the\u001b[39;00m\n\u001b[1;32m    255\u001b[0m         \u001b[38;5;66;03m#  systemic velocity of the galaxy [opposite regular sense])\u001b[39;00m\n\u001b[1;32m    256\u001b[0m         shifted_waves \u001b[38;5;241m=\u001b[39m (\u001b[38;5;241m1.0\u001b[39m \u001b[38;5;241m-\u001b[39m velocity \u001b[38;5;241m/\u001b[39m \u001b[38;5;241m2.998e5\u001b[39m) \u001b[38;5;241m*\u001b[39m \u001b[38;5;28mself\u001b[39m\u001b[38;5;241m.\u001b[39mwaves[cspec]\n\u001b[0;32m--> 257\u001b[0m         axav \u001b[38;5;241m=\u001b[39m \u001b[43m_curve_F99_method\u001b[49m\u001b[43m(\u001b[49m\n\u001b[1;32m    258\u001b[0m \u001b[43m            \u001b[49m\u001b[43mshifted_waves\u001b[49m\u001b[43m,\u001b[49m\n\u001b[1;32m    259\u001b[0m \u001b[43m            \u001b[49m\u001b[43mRv\u001b[49m\u001b[43m,\u001b[49m\n\u001b[1;32m    260\u001b[0m \u001b[43m            \u001b[49m\u001b[43mC1\u001b[49m\u001b[43m,\u001b[49m\n\u001b[1;32m    261\u001b[0m \u001b[43m            \u001b[49m\u001b[43mparams\u001b[49m\u001b[43m[\u001b[49m\u001b[38;5;241;43m2\u001b[39;49m\u001b[43m]\u001b[49m\u001b[43m,\u001b[49m\u001b[43m  \u001b[49m\u001b[38;5;66;43;03m# C2\u001b[39;49;00m\n\u001b[1;32m    262\u001b[0m \u001b[43m            \u001b[49m\u001b[43mparams\u001b[49m\u001b[43m[\u001b[49m\u001b[38;5;241;43m3\u001b[39;49m\u001b[43m]\u001b[49m\u001b[43m,\u001b[49m\u001b[43m  \u001b[49m\u001b[38;5;66;43;03m# C3\u001b[39;49;00m\n\u001b[1;32m    263\u001b[0m \u001b[43m            \u001b[49m\u001b[43mparams\u001b[49m\u001b[43m[\u001b[49m\u001b[38;5;241;43m4\u001b[39;49m\u001b[43m]\u001b[49m\u001b[43m,\u001b[49m\u001b[43m  \u001b[49m\u001b[38;5;66;43;03m# C4\u001b[39;49;00m\n\u001b[1;32m    264\u001b[0m \u001b[43m            \u001b[49m\u001b[43mxo\u001b[49m\u001b[38;5;241;43m=\u001b[39;49m\u001b[43mparams\u001b[49m\u001b[43m[\u001b[49m\u001b[38;5;241;43m5\u001b[39;49m\u001b[43m]\u001b[49m\u001b[43m,\u001b[49m\u001b[43m  \u001b[49m\u001b[38;5;66;43;03m# xo\u001b[39;49;00m\n\u001b[1;32m    265\u001b[0m \u001b[43m            \u001b[49m\u001b[43mgamma\u001b[49m\u001b[38;5;241;43m=\u001b[39;49m\u001b[43mparams\u001b[49m\u001b[43m[\u001b[49m\u001b[38;5;241;43m6\u001b[39;49m\u001b[43m]\u001b[49m\u001b[43m,\u001b[49m\u001b[43m  \u001b[49m\u001b[38;5;66;43;03m# gamma\u001b[39;49;00m\n\u001b[1;32m    266\u001b[0m \u001b[43m            \u001b[49m\u001b[43moptnir_axav_x\u001b[49m\u001b[38;5;241;43m=\u001b[39;49m\u001b[43moptnir_axav_x\u001b[49m\u001b[38;5;241;43m.\u001b[39;49m\u001b[43mvalue\u001b[49m\u001b[43m,\u001b[49m\n\u001b[1;32m    267\u001b[0m \u001b[43m            \u001b[49m\u001b[43moptnir_axav_y\u001b[49m\u001b[38;5;241;43m=\u001b[39;49m\u001b[43moptnir_axav_y\u001b[49m\u001b[43m,\u001b[49m\n\u001b[1;32m    268\u001b[0m \u001b[43m            \u001b[49m\u001b[43mvalid_x_range\u001b[49m\u001b[38;5;241;43m=\u001b[39;49m\u001b[43m[\u001b[49m\u001b[38;5;241;43m0.033\u001b[39;49m\u001b[43m,\u001b[49m\u001b[43m \u001b[49m\u001b[38;5;241;43m11.0\u001b[39;49m\u001b[43m]\u001b[49m\u001b[43m,\u001b[49m\n\u001b[1;32m    269\u001b[0m \u001b[43m            \u001b[49m\u001b[43mmodel_name\u001b[49m\u001b[38;5;241;43m=\u001b[39;49m\u001b[38;5;124;43m\"\u001b[39;49m\u001b[38;5;124;43mFM90_G23_measure_extinction\u001b[39;49m\u001b[38;5;124;43m\"\u001b[39;49m\u001b[43m,\u001b[49m\n\u001b[1;32m    270\u001b[0m \u001b[43m        \u001b[49m\u001b[43m)\u001b[49m\n\u001b[1;32m    272\u001b[0m         ext_sed[cspec] \u001b[38;5;241m=\u001b[39m sed[cspec] \u001b[38;5;241m*\u001b[39m (\u001b[38;5;241m10\u001b[39m \u001b[38;5;241m*\u001b[39m\u001b[38;5;241m*\u001b[39m (\u001b[38;5;241m-\u001b[39m\u001b[38;5;241m0.4\u001b[39m \u001b[38;5;241m*\u001b[39m axav \u001b[38;5;241m*\u001b[39m params[\u001b[38;5;241m0\u001b[39m]))\n\u001b[1;32m    274\u001b[0m     \u001b[38;5;66;03m# # create the extinguished sed\u001b[39;00m\n\u001b[1;32m    275\u001b[0m     \u001b[38;5;66;03m# ext_sed = {}\u001b[39;00m\n\u001b[1;32m    276\u001b[0m     \u001b[38;5;66;03m# for cspec in self.fluxes.keys():\u001b[39;00m\n\u001b[0;32m   (...)\u001b[0m\n\u001b[1;32m    282\u001b[0m \n\u001b[1;32m    283\u001b[0m \u001b[38;5;28;01melse\u001b[39;00m:\n",
      "File \u001b[0;32m~/Bin/miniconda3/lib/python3.9/site-packages/dust_extinction/shapes.py:101\u001b[0m, in \u001b[0;36m_curve_F99_method\u001b[0;34m(in_x, Rv, C1, C2, C3, C4, xo, gamma, optnir_axav_x, optnir_axav_y, valid_x_range, model_name)\u001b[0m\n\u001b[1;32m     98\u001b[0m     xuv \u001b[38;5;241m=\u001b[39m x_splineval_uv\n\u001b[1;32m    100\u001b[0m \u001b[38;5;66;03m# FM90 model and values\u001b[39;00m\n\u001b[0;32m--> 101\u001b[0m fm90_model \u001b[38;5;241m=\u001b[39m \u001b[43mFM90\u001b[49m\u001b[43m(\u001b[49m\u001b[43mC1\u001b[49m\u001b[38;5;241;43m=\u001b[39;49m\u001b[43mC1\u001b[49m\u001b[43m,\u001b[49m\u001b[43m \u001b[49m\u001b[43mC2\u001b[49m\u001b[38;5;241;43m=\u001b[39;49m\u001b[43mC2\u001b[49m\u001b[43m,\u001b[49m\u001b[43m \u001b[49m\u001b[43mC3\u001b[49m\u001b[38;5;241;43m=\u001b[39;49m\u001b[43mC3\u001b[49m\u001b[43m,\u001b[49m\u001b[43m \u001b[49m\u001b[43mC4\u001b[49m\u001b[38;5;241;43m=\u001b[39;49m\u001b[43mC4\u001b[49m\u001b[43m,\u001b[49m\u001b[43m \u001b[49m\u001b[43mxo\u001b[49m\u001b[38;5;241;43m=\u001b[39;49m\u001b[43mxo\u001b[49m\u001b[43m,\u001b[49m\u001b[43m \u001b[49m\u001b[43mgamma\u001b[49m\u001b[38;5;241;43m=\u001b[39;49m\u001b[43mgamma\u001b[49m\u001b[43m)\u001b[49m\n\u001b[1;32m    102\u001b[0m \u001b[38;5;66;03m# evaluate model and get results in A(x)/A(V)\u001b[39;00m\n\u001b[1;32m    103\u001b[0m axav_fm90 \u001b[38;5;241m=\u001b[39m fm90_model(xuv \u001b[38;5;241m/\u001b[39m u\u001b[38;5;241m.\u001b[39mmicron) \u001b[38;5;241m/\u001b[39m Rv \u001b[38;5;241m+\u001b[39m \u001b[38;5;241m1.0\u001b[39m\n",
      "File \u001b[0;32m~/Bin/miniconda3/lib/python3.9/site-packages/astropy/modeling/core.py:457\u001b[0m, in \u001b[0;36m__init__\u001b[0;34m(self, C1, C2, C3, C4, xo, gamma, **kwargs)\u001b[0m\n\u001b[1;32m    454\u001b[0m \u001b[38;5;28;01mdef\u001b[39;00m \u001b[38;5;21m__init__\u001b[39m(\u001b[38;5;28mself\u001b[39m, \u001b[38;5;241m*\u001b[39mparams, \u001b[38;5;241m*\u001b[39m\u001b[38;5;241m*\u001b[39mkwargs):\n\u001b[1;32m    455\u001b[0m     \u001b[38;5;28;01mreturn\u001b[39;00m \u001b[38;5;28msuper\u001b[39m(\u001b[38;5;28mcls\u001b[39m, \u001b[38;5;28mself\u001b[39m)\u001b[38;5;241m.\u001b[39m\u001b[38;5;21m__init__\u001b[39m(\u001b[38;5;241m*\u001b[39mparams, \u001b[38;5;241m*\u001b[39m\u001b[38;5;241m*\u001b[39mkwargs)\n\u001b[0;32m--> 457\u001b[0m new_init \u001b[38;5;241m=\u001b[39m make_function_with_signature(\n\u001b[1;32m    458\u001b[0m     \u001b[38;5;21m__init__\u001b[39m, args, kwargs, varkwargs\u001b[38;5;241m=\u001b[39m\u001b[38;5;124m\"\u001b[39m\u001b[38;5;124mkwargs\u001b[39m\u001b[38;5;124m\"\u001b[39m\n\u001b[1;32m    459\u001b[0m )\n\u001b[1;32m    460\u001b[0m update_wrapper(new_init, \u001b[38;5;28mcls\u001b[39m)\n\u001b[1;32m    461\u001b[0m \u001b[38;5;28mcls\u001b[39m\u001b[38;5;241m.\u001b[39m\u001b[38;5;21m__init__\u001b[39m \u001b[38;5;241m=\u001b[39m new_init\n",
      "File \u001b[0;32m~/Bin/miniconda3/lib/python3.9/site-packages/astropy/modeling/core.py:455\u001b[0m, in \u001b[0;36m_ModelMeta._handle_special_methods.<locals>.__init__\u001b[0;34m(self, *params, **kwargs)\u001b[0m\n\u001b[1;32m    454\u001b[0m \u001b[38;5;28;01mdef\u001b[39;00m \u001b[38;5;21m__init__\u001b[39m(\u001b[38;5;28mself\u001b[39m, \u001b[38;5;241m*\u001b[39mparams, \u001b[38;5;241m*\u001b[39m\u001b[38;5;241m*\u001b[39mkwargs):\n\u001b[0;32m--> 455\u001b[0m     \u001b[38;5;28;01mreturn\u001b[39;00m \u001b[38;5;28;43msuper\u001b[39;49m\u001b[43m(\u001b[49m\u001b[38;5;28;43mcls\u001b[39;49m\u001b[43m,\u001b[49m\u001b[43m \u001b[49m\u001b[38;5;28;43mself\u001b[39;49m\u001b[43m)\u001b[49m\u001b[38;5;241;43m.\u001b[39;49m\u001b[38;5;21;43m__init__\u001b[39;49m\u001b[43m(\u001b[49m\u001b[38;5;241;43m*\u001b[39;49m\u001b[43mparams\u001b[49m\u001b[43m,\u001b[49m\u001b[43m \u001b[49m\u001b[38;5;241;43m*\u001b[39;49m\u001b[38;5;241;43m*\u001b[39;49m\u001b[43mkwargs\u001b[49m\u001b[43m)\u001b[49m\n",
      "File \u001b[0;32m~/Bin/miniconda3/lib/python3.9/site-packages/astropy/modeling/core.py:734\u001b[0m, in \u001b[0;36mModel.__init__\u001b[0;34m(self, meta, name, *args, **kwargs)\u001b[0m\n\u001b[1;32m    732\u001b[0m \u001b[38;5;28;01mif\u001b[39;00m \u001b[38;5;28missubclass\u001b[39m(\u001b[38;5;28mcls\u001b[39m, Model):\n\u001b[1;32m    733\u001b[0m     \u001b[38;5;28;01mfor\u001b[39;00m parname, val \u001b[38;5;129;01min\u001b[39;00m \u001b[38;5;28mcls\u001b[39m\u001b[38;5;241m.\u001b[39m_parameters_\u001b[38;5;241m.\u001b[39mitems():\n\u001b[0;32m--> 734\u001b[0m         newpar \u001b[38;5;241m=\u001b[39m \u001b[43mcopy\u001b[49m\u001b[38;5;241;43m.\u001b[39;49m\u001b[43mdeepcopy\u001b[49m\u001b[43m(\u001b[49m\u001b[43mval\u001b[49m\u001b[43m)\u001b[49m\n\u001b[1;32m    735\u001b[0m         newpar\u001b[38;5;241m.\u001b[39mmodel \u001b[38;5;241m=\u001b[39m \u001b[38;5;28mself\u001b[39m\n\u001b[1;32m    736\u001b[0m         \u001b[38;5;28;01mif\u001b[39;00m parname \u001b[38;5;129;01mnot\u001b[39;00m \u001b[38;5;129;01min\u001b[39;00m \u001b[38;5;28mself\u001b[39m\u001b[38;5;241m.\u001b[39m\u001b[38;5;18m__dict__\u001b[39m:\n",
      "File \u001b[0;32m~/Bin/miniconda3/lib/python3.9/copy.py:172\u001b[0m, in \u001b[0;36mdeepcopy\u001b[0;34m(x, memo, _nil)\u001b[0m\n\u001b[1;32m    170\u001b[0m                 y \u001b[38;5;241m=\u001b[39m x\n\u001b[1;32m    171\u001b[0m             \u001b[38;5;28;01melse\u001b[39;00m:\n\u001b[0;32m--> 172\u001b[0m                 y \u001b[38;5;241m=\u001b[39m \u001b[43m_reconstruct\u001b[49m\u001b[43m(\u001b[49m\u001b[43mx\u001b[49m\u001b[43m,\u001b[49m\u001b[43m \u001b[49m\u001b[43mmemo\u001b[49m\u001b[43m,\u001b[49m\u001b[43m \u001b[49m\u001b[38;5;241;43m*\u001b[39;49m\u001b[43mrv\u001b[49m\u001b[43m)\u001b[49m\n\u001b[1;32m    174\u001b[0m \u001b[38;5;66;03m# If is its own copy, don't memoize.\u001b[39;00m\n\u001b[1;32m    175\u001b[0m \u001b[38;5;28;01mif\u001b[39;00m y \u001b[38;5;129;01mis\u001b[39;00m \u001b[38;5;129;01mnot\u001b[39;00m x:\n",
      "File \u001b[0;32m~/Bin/miniconda3/lib/python3.9/copy.py:270\u001b[0m, in \u001b[0;36m_reconstruct\u001b[0;34m(x, memo, func, args, state, listiter, dictiter, deepcopy)\u001b[0m\n\u001b[1;32m    268\u001b[0m \u001b[38;5;28;01mif\u001b[39;00m state \u001b[38;5;129;01mis\u001b[39;00m \u001b[38;5;129;01mnot\u001b[39;00m \u001b[38;5;28;01mNone\u001b[39;00m:\n\u001b[1;32m    269\u001b[0m     \u001b[38;5;28;01mif\u001b[39;00m deep:\n\u001b[0;32m--> 270\u001b[0m         state \u001b[38;5;241m=\u001b[39m \u001b[43mdeepcopy\u001b[49m\u001b[43m(\u001b[49m\u001b[43mstate\u001b[49m\u001b[43m,\u001b[49m\u001b[43m \u001b[49m\u001b[43mmemo\u001b[49m\u001b[43m)\u001b[49m\n\u001b[1;32m    271\u001b[0m     \u001b[38;5;28;01mif\u001b[39;00m \u001b[38;5;28mhasattr\u001b[39m(y, \u001b[38;5;124m'\u001b[39m\u001b[38;5;124m__setstate__\u001b[39m\u001b[38;5;124m'\u001b[39m):\n\u001b[1;32m    272\u001b[0m         y\u001b[38;5;241m.\u001b[39m__setstate__(state)\n",
      "File \u001b[0;32m~/Bin/miniconda3/lib/python3.9/copy.py:146\u001b[0m, in \u001b[0;36mdeepcopy\u001b[0;34m(x, memo, _nil)\u001b[0m\n\u001b[1;32m    144\u001b[0m copier \u001b[38;5;241m=\u001b[39m _deepcopy_dispatch\u001b[38;5;241m.\u001b[39mget(\u001b[38;5;28mcls\u001b[39m)\n\u001b[1;32m    145\u001b[0m \u001b[38;5;28;01mif\u001b[39;00m copier \u001b[38;5;129;01mis\u001b[39;00m \u001b[38;5;129;01mnot\u001b[39;00m \u001b[38;5;28;01mNone\u001b[39;00m:\n\u001b[0;32m--> 146\u001b[0m     y \u001b[38;5;241m=\u001b[39m \u001b[43mcopier\u001b[49m\u001b[43m(\u001b[49m\u001b[43mx\u001b[49m\u001b[43m,\u001b[49m\u001b[43m \u001b[49m\u001b[43mmemo\u001b[49m\u001b[43m)\u001b[49m\n\u001b[1;32m    147\u001b[0m \u001b[38;5;28;01melse\u001b[39;00m:\n\u001b[1;32m    148\u001b[0m     \u001b[38;5;28;01mif\u001b[39;00m \u001b[38;5;28missubclass\u001b[39m(\u001b[38;5;28mcls\u001b[39m, \u001b[38;5;28mtype\u001b[39m):\n",
      "File \u001b[0;32m~/Bin/miniconda3/lib/python3.9/copy.py:230\u001b[0m, in \u001b[0;36m_deepcopy_dict\u001b[0;34m(x, memo, deepcopy)\u001b[0m\n\u001b[1;32m    228\u001b[0m memo[\u001b[38;5;28mid\u001b[39m(x)] \u001b[38;5;241m=\u001b[39m y\n\u001b[1;32m    229\u001b[0m \u001b[38;5;28;01mfor\u001b[39;00m key, value \u001b[38;5;129;01min\u001b[39;00m x\u001b[38;5;241m.\u001b[39mitems():\n\u001b[0;32m--> 230\u001b[0m     y[deepcopy(key, memo)] \u001b[38;5;241m=\u001b[39m \u001b[43mdeepcopy\u001b[49m\u001b[43m(\u001b[49m\u001b[43mvalue\u001b[49m\u001b[43m,\u001b[49m\u001b[43m \u001b[49m\u001b[43mmemo\u001b[49m\u001b[43m)\u001b[49m\n\u001b[1;32m    231\u001b[0m \u001b[38;5;28;01mreturn\u001b[39;00m y\n",
      "File \u001b[0;32m~/Bin/miniconda3/lib/python3.9/copy.py:146\u001b[0m, in \u001b[0;36mdeepcopy\u001b[0;34m(x, memo, _nil)\u001b[0m\n\u001b[1;32m    144\u001b[0m copier \u001b[38;5;241m=\u001b[39m _deepcopy_dispatch\u001b[38;5;241m.\u001b[39mget(\u001b[38;5;28mcls\u001b[39m)\n\u001b[1;32m    145\u001b[0m \u001b[38;5;28;01mif\u001b[39;00m copier \u001b[38;5;129;01mis\u001b[39;00m \u001b[38;5;129;01mnot\u001b[39;00m \u001b[38;5;28;01mNone\u001b[39;00m:\n\u001b[0;32m--> 146\u001b[0m     y \u001b[38;5;241m=\u001b[39m \u001b[43mcopier\u001b[49m\u001b[43m(\u001b[49m\u001b[43mx\u001b[49m\u001b[43m,\u001b[49m\u001b[43m \u001b[49m\u001b[43mmemo\u001b[49m\u001b[43m)\u001b[49m\n\u001b[1;32m    147\u001b[0m \u001b[38;5;28;01melse\u001b[39;00m:\n\u001b[1;32m    148\u001b[0m     \u001b[38;5;28;01mif\u001b[39;00m \u001b[38;5;28missubclass\u001b[39m(\u001b[38;5;28mcls\u001b[39m, \u001b[38;5;28mtype\u001b[39m):\n",
      "File \u001b[0;32m~/Bin/miniconda3/lib/python3.9/copy.py:217\u001b[0m, in \u001b[0;36m_deepcopy_tuple\u001b[0;34m(x, memo, deepcopy)\u001b[0m\n\u001b[1;32m    215\u001b[0m \u001b[38;5;28;01mexcept\u001b[39;00m \u001b[38;5;167;01mKeyError\u001b[39;00m:\n\u001b[1;32m    216\u001b[0m     \u001b[38;5;28;01mpass\u001b[39;00m\n\u001b[0;32m--> 217\u001b[0m \u001b[38;5;28;01mfor\u001b[39;00m k, j \u001b[38;5;129;01min\u001b[39;00m \u001b[38;5;28mzip\u001b[39m(x, y):\n\u001b[1;32m    218\u001b[0m     \u001b[38;5;28;01mif\u001b[39;00m k \u001b[38;5;129;01mis\u001b[39;00m \u001b[38;5;129;01mnot\u001b[39;00m j:\n\u001b[1;32m    219\u001b[0m         y \u001b[38;5;241m=\u001b[39m \u001b[38;5;28mtuple\u001b[39m(y)\n",
      "\u001b[0;31mKeyboardInterrupt\u001b[0m: "
     ]
    }
   ],
   "source": [
    "p0 = get_fit_params(fit_params)\n",
    "ndim = len(p0)\n",
    "\n",
    "def lnprob_mcmc(params, *args):\n",
    "    full_params = get_full_params(params)\n",
    "    return fitinfo.lnprob(full_params, *args)\n",
    "\n",
    "nwalkers = 2 * ndim\n",
    "\n",
    "# setting up the walkers to start \"near\" the inital guess\n",
    "p = [p0 * (1 + 0.01 * np.random.normal(0, 1.0, ndim)) for k in range(nwalkers)]\n",
    "\n",
    "# setup the sampler\n",
    "sampler = emcee.EnsembleSampler(\n",
    "    nwalkers, ndim, lnprob_mcmc, args=(reddened_star, modinfo, fitinfo)\n",
    ")\n",
    "\n",
    "# do the full sampling\n",
    "pos, prob, state = sampler.run_mcmc(p, nsteps, progress=True)"
   ]
  },
  {
   "cell_type": "code",
   "execution_count": null,
   "id": "66c3e5a8",
   "metadata": {},
   "outputs": [],
   "source": [
    "# create the samples variable for later use\n",
    "flat_samples = sampler.get_chain(discard=int(0.1*nsteps), flat=True)\n",
    "\n",
    "# get the best fit values\n",
    "params_best = get_best_fit_params(sampler)\n",
    "\n",
    "def get_percentile_params(samples):\n",
    "    \"\"\"\n",
    "    Determine the 50p plus/minus 33p vlaues\n",
    "    \"\"\"\n",
    "\n",
    "    per_params = map(\n",
    "        lambda v: (v[1], v[2] - v[1], v[1] - v[0]),\n",
    "        zip(*np.percentile(samples, [16, 50, 84], axis=0)),\n",
    "    )\n",
    "\n",
    "    return per_params\n",
    "\n",
    "# get the 16, 50, and 84 percentiles\n",
    "params_per = get_percentile_params(flat_samples)\n",
    "\n",
    "# save the best fit and p50 +/- uncs values to a file\n",
    "# save as a single row table to provide a uniform format\n",
    "#f = open(out_basename + \"_fit_params.dat\", \"w\")\n",
    "#f.write(\"# best fit, p50, +unc, -unc\\n\")\n",
    "n_params = len(params_best)\n",
    "params_p50 = np.zeros(n_params)\n",
    "params_unc = np.zeros(n_params)\n",
    "print(\"best p50 -munc +unc # paramname\")\n",
    "for k, val in enumerate(params_per):\n",
    "    params_p50[k] = val[0]\n",
    "    params_unc[k] = 0.5 * (val[1] + val[2])\n",
    "    print(f\"{params_best[k]:.3f} {val[0]:.3f} {val[1]:.3f} {val[2]:.3f} # {pnames_fit[k]}\")"
   ]
  },
  {
   "cell_type": "code",
   "execution_count": null,
   "id": "ae17cbd0",
   "metadata": {},
   "outputs": [],
   "source": [
    "fit_params = get_full_params(params_best)\n",
    "plot_data_model(reddened_star, weights, modinfo, params_p50, pnames_fit, starname, velocity, params_unc=params_unc)"
   ]
  },
  {
   "cell_type": "code",
   "execution_count": null,
   "id": "0aca7182",
   "metadata": {},
   "outputs": [],
   "source": [
    "nparam = len(params_best)\n",
    "fig, axes = plt.subplots(nparam, figsize=(10, 15), sharex=True)\n",
    "samples = sampler.get_chain()\n",
    "labels = pnames_fit\n",
    "for i in range(ndim):\n",
    "    ax = axes[i]\n",
    "    ax.plot(samples[:, :, i], \"k\", alpha=0.3)\n",
    "    ax.set_xlim(0, len(samples))\n",
    "    ax.set_ylabel(labels[i])\n",
    "    ax.yaxis.set_label_coords(-0.1, 0.5)\n",
    "\n",
    "axes[-1].set_xlabel(\"step number\");"
   ]
  },
  {
   "cell_type": "code",
   "execution_count": null,
   "id": "353fe47f",
   "metadata": {},
   "outputs": [],
   "source": [
    "import corner\n",
    "\n",
    "fig = corner.corner(flat_samples, labels=labels)"
   ]
  },
  {
   "cell_type": "code",
   "execution_count": null,
   "id": "c863aa9d",
   "metadata": {},
   "outputs": [],
   "source": []
  }
 ],
 "metadata": {
  "kernelspec": {
   "display_name": "Python 3 (ipykernel)",
   "language": "python",
   "name": "python3"
  },
  "language_info": {
   "codemirror_mode": {
    "name": "ipython",
    "version": 3
   },
   "file_extension": ".py",
   "mimetype": "text/x-python",
   "name": "python",
   "nbconvert_exporter": "python",
   "pygments_lexer": "ipython3",
   "version": "3.9.7"
  }
 },
 "nbformat": 4,
 "nbformat_minor": 5
}
