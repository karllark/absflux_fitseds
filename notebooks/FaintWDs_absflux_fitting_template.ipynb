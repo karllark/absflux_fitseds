{
 "cells": [
  {
   "cell_type": "code",
   "execution_count": 1,
   "id": "42b3cd42",
   "metadata": {},
   "outputs": [],
   "source": [
    "import glob\n",
    "\n",
    "import numpy as np\n",
    "import scipy.optimize as op\n",
    "\n",
    "import matplotlib.pyplot as plt\n",
    "\n",
    "import astropy.units as u\n",
    "\n",
    "import emcee\n",
    "\n",
    "from measure_extinction.stardata import StarData\n",
    "from measure_extinction.extdata import ExtData\n",
    "from measure_extinction.modeldata import ModelData\n",
    "from measure_extinction.utils.fit_model import FitInfo\n",
    "\n",
    "from measure_extinction.utils.fit_model import get_best_fit_params, get_percentile_params\n",
    "\n",
    "from helpers import plot_data_model, get_fit_params, get_full_params"
   ]
  },
  {
   "cell_type": "markdown",
   "id": "3caa695b",
   "metadata": {},
   "source": [
    "## Info about the specific star and data to fit"
   ]
  },
  {
   "cell_type": "markdown",
   "id": "8f70bc32",
   "metadata": {},
   "source": [
    "Specify the location of the model and observed data"
   ]
  },
  {
   "cell_type": "code",
   "execution_count": 2,
   "id": "209117e4",
   "metadata": {},
   "outputs": [],
   "source": [
    "data_file_path = \"/home/kgordon/STScI/AbsFlux/CalSpec/absflux_fitseds/data/faintwds/\"\n",
    "model_file_path = \"/home/kgordon/Python/extstar_data/\""
   ]
  },
  {
   "cell_type": "markdown",
   "id": "57beb89f",
   "metadata": {},
   "source": [
    "Define star specific parameters"
   ]
  },
  {
   "cell_type": "code",
   "execution_count": 3,
   "id": "4b7882b1",
   "metadata": {},
   "outputs": [
    {
     "name": "stdout",
     "output_type": "stream",
     "text": [
      "4.52200058318427 0.013059140539433578\n"
     ]
    }
   ],
   "source": [
    "starname = \"wdfs1022_30\"\n",
    "fstarname = f\"{starname}.dat\"\n",
    "velocity = 0.0   # assumption\n",
    "relband = \"WFC3_F625W\"  # needed for dust extinction\n",
    "\n",
    "# Teff, logg, from Narayan et al. 2019\n",
    "teff = 33266.0\n",
    "teff_unc = 1000.0\n",
    "logt = np.log10(teff)\n",
    "logt_unc = 0.5 * (np.log10(teff + teff_unc) - np.log10(teff - teff_unc))\n",
    "print(logt, logt_unc)\n",
    "logg = 7.5\n",
    "logg_unc = 0.1\n",
    "\n",
    "# parameter names\n",
    "pnames = [\"logT\",\"logg\", \"logZ\", \"Av\",\"Rv\",\"C2\",\"C3\",\"C4\",\"x0\",\"gamma\",\"HI_gal\",\"HI_mw\"]\n",
    "# logZ and HI_mw not fit as sources in MW so HI_gal = HI_MW\n",
    "pnames_fit = [\"logT\",\"logg\", \"Av\",\"Rv\",\"C2\",\"C3\",\"C4\",\"x0\",\"gamma\",\"logHI\"]\n",
    "\n",
    "# initial starting position\n",
    "params = [4.5, 7.5, 0.0, 0.5, 3.1, 0.7, 3.23, 0.41, 4.59, 0.95, 20.5, 17.0]\n",
    "\n",
    "# add Gaussian priors based on prior knowledge\n",
    "ppriors = {}\n",
    "ppriors[\"logT\"] = (logt, logt_unc)\n",
    "ppriors[\"logg\"] = (logg, logg_unc)"
   ]
  },
  {
   "cell_type": "markdown",
   "id": "d96814fe",
   "metadata": {},
   "source": [
    "Give the fitting parameters"
   ]
  },
  {
   "cell_type": "code",
   "execution_count": 4,
   "id": "671da903",
   "metadata": {},
   "outputs": [],
   "source": [
    "# emcee\n",
    "nsteps = 10000"
   ]
  },
  {
   "cell_type": "markdown",
   "id": "78b14321",
   "metadata": {},
   "source": [
    "Read in the star data"
   ]
  },
  {
   "cell_type": "code",
   "execution_count": 5,
   "id": "9fee49ab",
   "metadata": {
    "scrolled": false
   },
   "outputs": [],
   "source": [
    "# get the observed reddened star data\n",
    "reddened_star = StarData(fstarname, path=f\"{data_file_path}\")\n",
    "band_names = reddened_star.data[\"BAND\"].get_band_names()\n",
    "data_names = reddened_star.data.keys()"
   ]
  },
  {
   "cell_type": "markdown",
   "id": "fdcbc50f",
   "metadata": {},
   "source": [
    "Create the weight arrays based on the observed uncertainties and exclude regions that have known lines not fit by the models (ISM gas, etc.)."
   ]
  },
  {
   "cell_type": "code",
   "execution_count": 6,
   "id": "2c83f31c",
   "metadata": {},
   "outputs": [],
   "source": [
    "# cropping info for weights\n",
    "#  bad regions are defined as those were we know the models do not work\n",
    "#  or the data is bad\n",
    "ex_regions = [\n",
    "    [8.23 - 0.1, 8.23 + 0.1],  # geocoronal line\n",
    "    [8.7, 10.0],  # bad data from STIS\n",
    "    [3.55, 3.6],\n",
    "    [3.80, 3.90],\n",
    "    [4.15, 4.3],\n",
    "    [6.4, 6.6],\n",
    "    [7.1, 7.3],\n",
    "    [7.45, 7.55],\n",
    "    [7.65, 7.75],\n",
    "    [7.9, 7.95],\n",
    "    [8.05, 8.1],\n",
    "] / u.micron\n",
    "\n",
    "weights = {}\n",
    "for cspec in data_names:\n",
    "    weights[cspec] = np.full(len(reddened_star.data[cspec].fluxes), 0.0)\n",
    "    gvals = reddened_star.data[cspec].npts > 0\n",
    "\n",
    "    weights[cspec][gvals] = 1.0 / reddened_star.data[cspec].uncs[gvals].value\n",
    "\n",
    "    x = 1.0 / reddened_star.data[cspec].waves\n",
    "    for cexreg in ex_regions:\n",
    "        weights[cspec][np.logical_and(x >= cexreg[0], x <= cexreg[1])] = 0.0"
   ]
  },
  {
   "cell_type": "markdown",
   "id": "5d47d4d3",
   "metadata": {},
   "source": [
    "Get the model data"
   ]
  },
  {
   "cell_type": "code",
   "execution_count": 7,
   "id": "70cdc247",
   "metadata": {},
   "outputs": [],
   "source": [
    "tlusty_models_fullpath = glob.glob(f\"{model_file_path}/Models/wd_hubeny*.dat\")\n",
    "tlusty_models = [\n",
    "    tfile[tfile.rfind(\"/\") + 1 : len(tfile)] for tfile in tlusty_models_fullpath\n",
    "]\n",
    "\n",
    "# get the models with just the reddened star band data and spectra\n",
    "modinfo = ModelData(\n",
    "    tlusty_models,\n",
    "    path=f\"{model_file_path}/Models/\",\n",
    "    band_names=band_names,\n",
    "    spectra_names=data_names,\n",
    ")"
   ]
  },
  {
   "cell_type": "markdown",
   "id": "f975ea60",
   "metadata": {},
   "source": [
    "Setup the fit parameters"
   ]
  },
  {
   "cell_type": "code",
   "execution_count": 8,
   "id": "d8d770a4",
   "metadata": {},
   "outputs": [],
   "source": [
    "# not all these parameters are being fit\n",
    "#   not fitting for met, log(HI) MW foreground\n",
    "plimits = [\n",
    "        [modinfo.temps_min, modinfo.temps_max],  # log(Teff)\n",
    "        [modinfo.gravs_min, modinfo.gravs_max],  # log(g)\n",
    "        [0.0, 0.0], # met\n",
    "        [0.0, 1.0],   # Av\n",
    "        [2.31, 5.59],   # Rv\n",
    "        [-0.1, 5.0],  # C2\n",
    "        [-1.0, 6.0],   # C3\n",
    "        [-0.5, 1.5],   # C4\n",
    "        [4.5, 4.9],   # xo\n",
    "        [0.6, 1.5],   # gamma\n",
    "        [18.0, 24.0], # log(HI) internal to galaxy\n",
    "        [17.0, 22.0], # log(HI) MW foreground\n",
    "    ]"
   ]
  },
  {
   "cell_type": "markdown",
   "id": "6bae6f15",
   "metadata": {},
   "source": [
    "Package the fit info needed.  FitInfo class defines the likelihood functions as well."
   ]
  },
  {
   "cell_type": "code",
   "execution_count": 9,
   "id": "f6aa29d7",
   "metadata": {},
   "outputs": [],
   "source": [
    "fitinfo = FitInfo(\n",
    "    pnames,\n",
    "    plimits,\n",
    "    weights,\n",
    "    parameter_priors=ppriors,\n",
    "    stellar_velocity=velocity,\n",
    ")"
   ]
  },
  {
   "cell_type": "code",
   "execution_count": 10,
   "id": "5ff88bed",
   "metadata": {},
   "outputs": [
    {
     "name": "stdout",
     "output_type": "stream",
     "text": [
      "-122514.36610393149\n",
      "-1.4190875804036507\n",
      "-122515.7851915119\n"
     ]
    }
   ],
   "source": [
    "# check that the initial starting position returns a valid value of lnprob and is within the parameter bounds\n",
    "fitinfo.check_param_limits(params)\n",
    "print(fitinfo.lnlike(params, reddened_star, modinfo))\n",
    "print(fitinfo.lnprior(params))\n",
    "print(fitinfo.lnprob(params, reddened_star, modinfo, fitinfo))"
   ]
  },
  {
   "cell_type": "markdown",
   "id": "cc3b9848",
   "metadata": {},
   "source": [
    "## Do the fitting to find the best fit (using a minimizer)"
   ]
  },
  {
   "cell_type": "code",
   "execution_count": 11,
   "id": "7932407d",
   "metadata": {},
   "outputs": [
    {
     "name": "stdout",
     "output_type": "stream",
     "text": [
      "Optimization terminated successfully.\n"
     ]
    }
   ],
   "source": [
    "# simple function to turn the log(likelihood) into the chisqr\n",
    "#  requied as op.minimize function searchs for the minimum chisqr (not max likelihood like MCMC algorithms)\n",
    "def nll(params, *args):\n",
    "    full_params = get_full_params(params)\n",
    "    return -fitinfo.lnprob(full_params, *args)\n",
    "\n",
    "init_fit_params = get_fit_params(params)\n",
    "\n",
    "# run the fit\n",
    "result = op.minimize(\n",
    "    nll, init_fit_params, method=\"Nelder-Mead\", options={\"maxiter\": 10000}, \n",
    "    args=(reddened_star, modinfo, fitinfo)\n",
    ")\n",
    "\n",
    "# check the fit output\n",
    "print(result[\"message\"])"
   ]
  },
  {
   "cell_type": "code",
   "execution_count": 12,
   "id": "e510ce95",
   "metadata": {},
   "outputs": [
    {
     "name": "stdout",
     "output_type": "stream",
     "text": [
      "4.69022215912047 # logT\n",
      "7.591840360318205 # logg\n",
      "0.0 # logZ\n",
      "0.12781562888010856 # Av\n",
      "2.310000029766182 # Rv\n",
      "0.3828076494323495 # C2\n",
      "0.6758916938948882 # C3\n",
      "1.245662458589388 # C4\n",
      "4.899940613803558 # x0\n",
      "0.6000000045243676 # gamma\n",
      "20.295212353053333 # HI_gal\n",
      "17.0 # HI_mw\n"
     ]
    }
   ],
   "source": [
    "# print results\n",
    "fit_params = get_full_params(result[\"x\"])\n",
    "params_best = fit_params\n",
    "fit_params_fit = get_fit_params(fit_params)\n",
    "\n",
    "# print the best fit\n",
    "for k, val in enumerate(params_best):\n",
    "    print(f\"{val} # {pnames[k]}\")"
   ]
  },
  {
   "cell_type": "markdown",
   "id": "72e47e0a",
   "metadata": {},
   "source": [
    "Plot the spectra with the best fit model"
   ]
  },
  {
   "cell_type": "code",
   "execution_count": 13,
   "id": "16d1ca7e",
   "metadata": {},
   "outputs": [
    {
     "data": {
      "image/png": "[encoded data removed]",
      "text/plain": [
       "<Figure size 936x720 with 2 Axes>"
      ]
     },
     "metadata": {
      "needs_background": "light"
     },
     "output_type": "display_data"
    }
   ],
   "source": [
    "# plot optimizer/minimizer best fit\n",
    "\n",
    "plot_data_model(reddened_star, weights, modinfo, fit_params_fit, pnames_fit, starname, velocity)"
   ]
  },
  {
   "cell_type": "markdown",
   "id": "606f144a",
   "metadata": {},
   "source": [
    "## Run emcee MCMC sampler to define uncertainties (bonus section)"
   ]
  },
  {
   "cell_type": "code",
   "execution_count": null,
   "id": "de6d727a",
   "metadata": {},
   "outputs": [
    {
     "name": "stderr",
     "output_type": "stream",
     "text": [
      "  0%|                                                                       | 0/10000 [00:00<?, ?it/s]/home/kgordon/Bin/miniconda3/lib/python3.9/site-packages/emcee/moves/red_blue.py:99: RuntimeWarning: invalid value encountered in scalar subtract\n",
      "  lnpdiff = f + nlp - state.log_prob[j]\n",
      " 16%|█████████▍                                                  | 1564/10000 [04:25<23:35,  5.96it/s]"
     ]
    }
   ],
   "source": [
    "p0 = get_fit_params(fit_params)\n",
    "ndim = len(p0)\n",
    "\n",
    "def lnprob_mcmc(params, *args):\n",
    "    full_params = get_full_params(params)\n",
    "    return fitinfo.lnprob(full_params, *args)\n",
    "\n",
    "nwalkers = 2 * ndim\n",
    "\n",
    "# setting up the walkers to start \"near\" the inital guess\n",
    "p = [p0 * (1 + 0.1 * np.random.normal(0, 1.0, ndim)) for k in range(nwalkers)]\n",
    "\n",
    "# setup the sampler\n",
    "sampler = emcee.EnsembleSampler(\n",
    "    nwalkers, ndim, lnprob_mcmc, args=(reddened_star, modinfo, fitinfo)\n",
    ")\n",
    "\n",
    "# do the full sampling\n",
    "pos, prob, state = sampler.run_mcmc(p, nsteps, progress=True)"
   ]
  },
  {
   "cell_type": "code",
   "execution_count": null,
   "id": "66c3e5a8",
   "metadata": {},
   "outputs": [],
   "source": [
    "# create the samples variable for later use\n",
    "flat_samples = sampler.get_chain(discard=int(0.1*nsteps), flat=True)\n",
    "\n",
    "# get the best fit values\n",
    "params_best = get_best_fit_params(sampler)\n",
    "\n",
    "def get_percentile_params(samples):\n",
    "    \"\"\"\n",
    "    Determine the 50p plus/minus 33p vlaues\n",
    "    \"\"\"\n",
    "\n",
    "    per_params = map(\n",
    "        lambda v: (v[1], v[2] - v[1], v[1] - v[0]),\n",
    "        zip(*np.percentile(samples, [16, 50, 84], axis=0)),\n",
    "    )\n",
    "\n",
    "    return per_params\n",
    "\n",
    "# get the 16, 50, and 84 percentiles\n",
    "params_per = get_percentile_params(flat_samples)\n",
    "\n",
    "# save the best fit and p50 +/- uncs values to a file\n",
    "# save as a single row table to provide a uniform format\n",
    "#f = open(out_basename + \"_fit_params.dat\", \"w\")\n",
    "#f.write(\"# best fit, p50, +unc, -unc\\n\")\n",
    "n_params = len(params_best)\n",
    "params_p50 = np.zeros(n_params)\n",
    "params_unc = np.zeros(n_params)\n",
    "print(\"best p50 -munc +unc # paramname\")\n",
    "for k, val in enumerate(params_per):\n",
    "    params_p50[k] = val[0]\n",
    "    params_unc[k] = 0.5 * (val[1] + val[2])\n",
    "    print(f\"{params_best[k]:.3f} {val[0]:.3f} {val[1]:.3f} {val[2]:.3f} # {pnames_fit[k]}\")"
   ]
  },
  {
   "cell_type": "code",
   "execution_count": null,
   "id": "ae17cbd0",
   "metadata": {},
   "outputs": [],
   "source": [
    "fit_params = get_full_params(params_best)\n",
    "plot_data_model(reddened_star, weights, modinfo, params_p50, pnames_fit, starname, velocity, params_unc=params_unc)"
   ]
  },
  {
   "cell_type": "code",
   "execution_count": null,
   "id": "0aca7182",
   "metadata": {},
   "outputs": [],
   "source": [
    "nparam = len(params_best)\n",
    "fig, axes = plt.subplots(nparam, figsize=(10, 15), sharex=True)\n",
    "samples = sampler.get_chain()\n",
    "labels = pnames_fit\n",
    "for i in range(ndim):\n",
    "    ax = axes[i]\n",
    "    ax.plot(samples[:, :, i], \"k\", alpha=0.3)\n",
    "    ax.set_xlim(0, len(samples))\n",
    "    ax.set_ylabel(labels[i])\n",
    "    ax.yaxis.set_label_coords(-0.1, 0.5)\n",
    "\n",
    "axes[-1].set_xlabel(\"step number\");"
   ]
  },
  {
   "cell_type": "code",
   "execution_count": null,
   "id": "353fe47f",
   "metadata": {},
   "outputs": [],
   "source": [
    "import corner\n",
    "\n",
    "fig = corner.corner(flat_samples, labels=labels)"
   ]
  },
  {
   "cell_type": "code",
   "execution_count": null,
   "id": "c863aa9d",
   "metadata": {},
   "outputs": [],
   "source": []
  }
 ],
 "metadata": {
  "kernelspec": {
   "display_name": "Python 3 (ipykernel)",
   "language": "python",
   "name": "python3"
  },
  "language_info": {
   "codemirror_mode": {
    "name": "ipython",
    "version": 3
   },
   "file_extension": ".py",
   "mimetype": "text/x-python",
   "name": "python",
   "nbconvert_exporter": "python",
   "pygments_lexer": "ipython3",
   "version": "3.9.7"
  }
 },
 "nbformat": 4,
 "nbformat_minor": 5
}
